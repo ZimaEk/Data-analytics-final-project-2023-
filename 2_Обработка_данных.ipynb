{
  "nbformat": 4,
  "nbformat_minor": 0,
  "metadata": {
    "colab": {
      "provenance": []
    },
    "kernelspec": {
      "name": "python3",
      "display_name": "Python 3"
    },
    "language_info": {
      "name": "python"
    }
  },
  "cells": [
    {
      "cell_type": "markdown",
      "source": [
        "# Обработка количественных данных: доход"
      ],
      "metadata": {
        "id": "xg-a8FiPsJt4"
      }
    },
    {
      "cell_type": "code",
      "source": [
        "import pandas as pd\n",
        "dataset = pd.read_csv('hh_final.csv')\n",
        "dataset"
      ],
      "metadata": {
        "colab": {
          "base_uri": "https://localhost:8080/",
          "height": 423
        },
        "id": "9aZSluzBsNFr",
        "outputId": "ee5acb8a-7113-4bde-ece3-e01410e21bb3"
      },
      "execution_count": null,
      "outputs": [
        {
          "output_type": "execute_result",
          "data": {
            "text/plain": [
              "         Направление                                           Вакансия  \\\n",
              "0      Культурология                                  Заведующий музеем   \n",
              "1      Культурология                            Научный сотрудник музея   \n",
              "2      Культурология                                        Экскурсовод   \n",
              "3      Культурология  Главный хранитель - заместитель заведующего (П...   \n",
              "4      Культурология  Методист по научно-просветительской деятельнос...   \n",
              "...              ...                                                ...   \n",
              "1396  Религиоведение                      Доцент Кафедры религиоведения   \n",
              "1397  Религиоведение                 Заведующий кафедрой религиоведения   \n",
              "1398  Религиоведение       Старший преподаватель Кафедры религиоведения   \n",
              "1399  Религиоведение                   Профессор кафедры религиоведения   \n",
              "1400  Религиоведение  Консультант отдела организационной работы (спе...   \n",
              "\n",
              "      Доход                                    Ключевые навыки  \n",
              "0     90000                                  Навыки не указаны  \n",
              "1     25000                                  Навыки не указаны  \n",
              "2     35000                                  Навыки не указаны  \n",
              "3     30000                                  Навыки не указаны  \n",
              "4     40000                                  Навыки не указаны  \n",
              "...     ...                                                ...  \n",
              "1396  50000  ['Высшее образование', 'Работа в условиях мног...  \n",
              "1397  79000                                  Навыки не указаны  \n",
              "1398  37000  ['Написание научных статей', 'Преподаватель', ...  \n",
              "1399  50000                                  Навыки не указаны  \n",
              "1400  33000  ['Деловая переписка', 'Работа с большим объемо...  \n",
              "\n",
              "[1401 rows x 4 columns]"
            ],
            "text/html": [
              "\n",
              "  <div id=\"df-a5489af2-0cdd-4de9-8740-fb3f7d9cb7cf\">\n",
              "    <div class=\"colab-df-container\">\n",
              "      <div>\n",
              "<style scoped>\n",
              "    .dataframe tbody tr th:only-of-type {\n",
              "        vertical-align: middle;\n",
              "    }\n",
              "\n",
              "    .dataframe tbody tr th {\n",
              "        vertical-align: top;\n",
              "    }\n",
              "\n",
              "    .dataframe thead th {\n",
              "        text-align: right;\n",
              "    }\n",
              "</style>\n",
              "<table border=\"1\" class=\"dataframe\">\n",
              "  <thead>\n",
              "    <tr style=\"text-align: right;\">\n",
              "      <th></th>\n",
              "      <th>Направление</th>\n",
              "      <th>Вакансия</th>\n",
              "      <th>Доход</th>\n",
              "      <th>Ключевые навыки</th>\n",
              "    </tr>\n",
              "  </thead>\n",
              "  <tbody>\n",
              "    <tr>\n",
              "      <th>0</th>\n",
              "      <td>Культурология</td>\n",
              "      <td>Заведующий музеем</td>\n",
              "      <td>90000</td>\n",
              "      <td>Навыки не указаны</td>\n",
              "    </tr>\n",
              "    <tr>\n",
              "      <th>1</th>\n",
              "      <td>Культурология</td>\n",
              "      <td>Научный сотрудник музея</td>\n",
              "      <td>25000</td>\n",
              "      <td>Навыки не указаны</td>\n",
              "    </tr>\n",
              "    <tr>\n",
              "      <th>2</th>\n",
              "      <td>Культурология</td>\n",
              "      <td>Экскурсовод</td>\n",
              "      <td>35000</td>\n",
              "      <td>Навыки не указаны</td>\n",
              "    </tr>\n",
              "    <tr>\n",
              "      <th>3</th>\n",
              "      <td>Культурология</td>\n",
              "      <td>Главный хранитель - заместитель заведующего (П...</td>\n",
              "      <td>30000</td>\n",
              "      <td>Навыки не указаны</td>\n",
              "    </tr>\n",
              "    <tr>\n",
              "      <th>4</th>\n",
              "      <td>Культурология</td>\n",
              "      <td>Методист по научно-просветительской деятельнос...</td>\n",
              "      <td>40000</td>\n",
              "      <td>Навыки не указаны</td>\n",
              "    </tr>\n",
              "    <tr>\n",
              "      <th>...</th>\n",
              "      <td>...</td>\n",
              "      <td>...</td>\n",
              "      <td>...</td>\n",
              "      <td>...</td>\n",
              "    </tr>\n",
              "    <tr>\n",
              "      <th>1396</th>\n",
              "      <td>Религиоведение</td>\n",
              "      <td>Доцент Кафедры религиоведения</td>\n",
              "      <td>50000</td>\n",
              "      <td>['Высшее образование', 'Работа в условиях мног...</td>\n",
              "    </tr>\n",
              "    <tr>\n",
              "      <th>1397</th>\n",
              "      <td>Религиоведение</td>\n",
              "      <td>Заведующий кафедрой религиоведения</td>\n",
              "      <td>79000</td>\n",
              "      <td>Навыки не указаны</td>\n",
              "    </tr>\n",
              "    <tr>\n",
              "      <th>1398</th>\n",
              "      <td>Религиоведение</td>\n",
              "      <td>Старший преподаватель Кафедры религиоведения</td>\n",
              "      <td>37000</td>\n",
              "      <td>['Написание научных статей', 'Преподаватель', ...</td>\n",
              "    </tr>\n",
              "    <tr>\n",
              "      <th>1399</th>\n",
              "      <td>Религиоведение</td>\n",
              "      <td>Профессор кафедры религиоведения</td>\n",
              "      <td>50000</td>\n",
              "      <td>Навыки не указаны</td>\n",
              "    </tr>\n",
              "    <tr>\n",
              "      <th>1400</th>\n",
              "      <td>Религиоведение</td>\n",
              "      <td>Консультант отдела организационной работы (спе...</td>\n",
              "      <td>33000</td>\n",
              "      <td>['Деловая переписка', 'Работа с большим объемо...</td>\n",
              "    </tr>\n",
              "  </tbody>\n",
              "</table>\n",
              "<p>1401 rows × 4 columns</p>\n",
              "</div>\n",
              "      <button class=\"colab-df-convert\" onclick=\"convertToInteractive('df-a5489af2-0cdd-4de9-8740-fb3f7d9cb7cf')\"\n",
              "              title=\"Convert this dataframe to an interactive table.\"\n",
              "              style=\"display:none;\">\n",
              "        \n",
              "  <svg xmlns=\"http://www.w3.org/2000/svg\" height=\"24px\"viewBox=\"0 0 24 24\"\n",
              "       width=\"24px\">\n",
              "    <path d=\"M0 0h24v24H0V0z\" fill=\"none\"/>\n",
              "    <path d=\"M18.56 5.44l.94 2.06.94-2.06 2.06-.94-2.06-.94-.94-2.06-.94 2.06-2.06.94zm-11 1L8.5 8.5l.94-2.06 2.06-.94-2.06-.94L8.5 2.5l-.94 2.06-2.06.94zm10 10l.94 2.06.94-2.06 2.06-.94-2.06-.94-.94-2.06-.94 2.06-2.06.94z\"/><path d=\"M17.41 7.96l-1.37-1.37c-.4-.4-.92-.59-1.43-.59-.52 0-1.04.2-1.43.59L10.3 9.45l-7.72 7.72c-.78.78-.78 2.05 0 2.83L4 21.41c.39.39.9.59 1.41.59.51 0 1.02-.2 1.41-.59l7.78-7.78 2.81-2.81c.8-.78.8-2.07 0-2.86zM5.41 20L4 18.59l7.72-7.72 1.47 1.35L5.41 20z\"/>\n",
              "  </svg>\n",
              "      </button>\n",
              "      \n",
              "  <style>\n",
              "    .colab-df-container {\n",
              "      display:flex;\n",
              "      flex-wrap:wrap;\n",
              "      gap: 12px;\n",
              "    }\n",
              "\n",
              "    .colab-df-convert {\n",
              "      background-color: #E8F0FE;\n",
              "      border: none;\n",
              "      border-radius: 50%;\n",
              "      cursor: pointer;\n",
              "      display: none;\n",
              "      fill: #1967D2;\n",
              "      height: 32px;\n",
              "      padding: 0 0 0 0;\n",
              "      width: 32px;\n",
              "    }\n",
              "\n",
              "    .colab-df-convert:hover {\n",
              "      background-color: #E2EBFA;\n",
              "      box-shadow: 0px 1px 2px rgba(60, 64, 67, 0.3), 0px 1px 3px 1px rgba(60, 64, 67, 0.15);\n",
              "      fill: #174EA6;\n",
              "    }\n",
              "\n",
              "    [theme=dark] .colab-df-convert {\n",
              "      background-color: #3B4455;\n",
              "      fill: #D2E3FC;\n",
              "    }\n",
              "\n",
              "    [theme=dark] .colab-df-convert:hover {\n",
              "      background-color: #434B5C;\n",
              "      box-shadow: 0px 1px 3px 1px rgba(0, 0, 0, 0.15);\n",
              "      filter: drop-shadow(0px 1px 2px rgba(0, 0, 0, 0.3));\n",
              "      fill: #FFFFFF;\n",
              "    }\n",
              "  </style>\n",
              "\n",
              "      <script>\n",
              "        const buttonEl =\n",
              "          document.querySelector('#df-a5489af2-0cdd-4de9-8740-fb3f7d9cb7cf button.colab-df-convert');\n",
              "        buttonEl.style.display =\n",
              "          google.colab.kernel.accessAllowed ? 'block' : 'none';\n",
              "\n",
              "        async function convertToInteractive(key) {\n",
              "          const element = document.querySelector('#df-a5489af2-0cdd-4de9-8740-fb3f7d9cb7cf');\n",
              "          const dataTable =\n",
              "            await google.colab.kernel.invokeFunction('convertToInteractive',\n",
              "                                                     [key], {});\n",
              "          if (!dataTable) return;\n",
              "\n",
              "          const docLinkHtml = 'Like what you see? Visit the ' +\n",
              "            '<a target=\"_blank\" href=https://colab.research.google.com/notebooks/data_table.ipynb>data table notebook</a>'\n",
              "            + ' to learn more about interactive tables.';\n",
              "          element.innerHTML = '';\n",
              "          dataTable['output_type'] = 'display_data';\n",
              "          await google.colab.output.renderOutput(dataTable, element);\n",
              "          const docLink = document.createElement('div');\n",
              "          docLink.innerHTML = docLinkHtml;\n",
              "          element.appendChild(docLink);\n",
              "        }\n",
              "      </script>\n",
              "    </div>\n",
              "  </div>\n",
              "  "
            ]
          },
          "metadata": {},
          "execution_count": 1
        }
      ]
    },
    {
      "cell_type": "markdown",
      "source": [
        "## Очистка нулей и лишних строк"
      ],
      "metadata": {
        "id": "ejoQf45n1s4L"
      }
    },
    {
      "cell_type": "code",
      "source": [
        "dataset_1 = dataset[dataset['Направление'] != 'Направление']\n",
        "dataset_1['Доход'] = pd.to_numeric(dataset_1['Доход'])"
      ],
      "metadata": {
        "id": "hBpfSWxcuWYE"
      },
      "execution_count": null,
      "outputs": []
    },
    {
      "cell_type": "code",
      "source": [
        "dataset_clean = dataset_1[dataset_1['Доход'] != 0] # избавляемся от нулевых строковых значений\n",
        "dataset_clean.info()"
      ],
      "metadata": {
        "id": "0dwtKpLIwuba",
        "colab": {
          "base_uri": "https://localhost:8080/"
        },
        "outputId": "04b9a3ec-fc81-429b-f57b-8409e9315612"
      },
      "execution_count": null,
      "outputs": [
        {
          "output_type": "stream",
          "name": "stdout",
          "text": [
            "<class 'pandas.core.frame.DataFrame'>\n",
            "Int64Index: 1395 entries, 0 to 1400\n",
            "Data columns (total 4 columns):\n",
            " #   Column           Non-Null Count  Dtype \n",
            "---  ------           --------------  ----- \n",
            " 0   Направление      1395 non-null   object\n",
            " 1   Вакансия         1395 non-null   object\n",
            " 2   Доход            1395 non-null   int64 \n",
            " 3   Ключевые навыки  1395 non-null   object\n",
            "dtypes: int64(1), object(3)\n",
            "memory usage: 54.5+ KB\n"
          ]
        }
      ]
    },
    {
      "cell_type": "code",
      "source": [
        "# Cбрасываем старые индексы\n",
        "dataset_clean.reset_index(drop= True , inplace= True )\n",
        "dataset_clean['Доход'][140:144]"
      ],
      "metadata": {
        "colab": {
          "base_uri": "https://localhost:8080/"
        },
        "id": "CgGcw4iBrnT0",
        "outputId": "ca46e3f0-b743-4886-cbd7-bdadb64f435a"
      },
      "execution_count": null,
      "outputs": [
        {
          "output_type": "execute_result",
          "data": {
            "text/plain": [
              "140    70000\n",
              "141    35000\n",
              "142    45000\n",
              "143    80000\n",
              "Name: Доход, dtype: int64"
            ]
          },
          "metadata": {},
          "execution_count": 4
        }
      ]
    },
    {
      "cell_type": "markdown",
      "source": [
        "## Анализ дохода"
      ],
      "metadata": {
        "id": "fes3oudfk9Eg"
      }
    },
    {
      "cell_type": "code",
      "source": [
        "dataset_clean['Направление'].value_counts()"
      ],
      "metadata": {
        "colab": {
          "base_uri": "https://localhost:8080/"
        },
        "id": "QRJYAIpreiSv",
        "outputId": "f1a64f99-a5b2-4586-85a0-e48666622146"
      },
      "execution_count": null,
      "outputs": [
        {
          "output_type": "execute_result",
          "data": {
            "text/plain": [
              "Документооборот            120\n",
              "История                    120\n",
              "Международные отношения    120\n",
              "Юриспруденция              120\n",
              "Физическая культура        120\n",
              "Редактирование             119\n",
              "Реклама                    119\n",
              "Журналистика               118\n",
              "Психология                 118\n",
              "Лингвистика                116\n",
              "Филология                  106\n",
              "Философское образование     39\n",
              "Политология                 20\n",
              "Регионоведение              18\n",
              "Культурология               17\n",
              "Религиоведение               5\n",
              "Name: Направление, dtype: int64"
            ]
          },
          "metadata": {},
          "execution_count": 5
        }
      ]
    },
    {
      "cell_type": "code",
      "source": [],
      "metadata": {
        "id": "FphTsUxBXx-2"
      },
      "execution_count": null,
      "outputs": []
    },
    {
      "cell_type": "code",
      "source": [
        "# Какая зп максимальная и минимальная?\n",
        "\n",
        "salary = dataset_clean['Доход']\n",
        "max_value = salary.max()\n",
        "min_value = salary.min()\n",
        "\n",
        "print('Максимальный размер зп: ', max_value, 'Минимальный размер зп: ', min_value)\n",
        "\n",
        "# Какая средняя зп - может быть искажена выбросами\n",
        "mean_value = salary.mean()\n",
        "print('Средняя зп до обработки выбросов (ср.ариф.): ', mean_value)\n",
        "\n",
        "# Альтернативный метод - медиана\n",
        "median_value = salary.median()\n",
        "print('Средняя зп до обработки выбросов (медиана): ', median_value)"
      ],
      "metadata": {
        "colab": {
          "base_uri": "https://localhost:8080/"
        },
        "id": "eTEte2KAk8fV",
        "outputId": "2b41c8cf-0fc8-4b22-ed9c-c175c83dc7b8"
      },
      "execution_count": null,
      "outputs": [
        {
          "output_type": "stream",
          "name": "stdout",
          "text": [
            "Максимальный размер зп:  500000 Минимальный размер зп:  5000\n",
            "Средняя зп до обработки выбросов (ср.ариф.):  57761.62652329749\n",
            "Средняя зп до обработки выбросов (медиана):  50000.0\n"
          ]
        }
      ]
    },
    {
      "cell_type": "markdown",
      "source": [
        "### Проверка выбросов - доход"
      ],
      "metadata": {
        "id": "XAYASUSGxY2n"
      }
    },
    {
      "cell_type": "code",
      "source": [
        "import matplotlib.pyplot as plt\n",
        "salary = dataset_clean['Доход']\n",
        "plt.boxplot(salary)         # Применяем команду\n",
        "plt.show                    # Выводим, что получилось"
      ],
      "metadata": {
        "colab": {
          "base_uri": "https://localhost:8080/",
          "height": 447
        },
        "id": "akFCLplJxbTH",
        "outputId": "8ebb336f-a98b-43cc-dd26-c82fe1f59c98"
      },
      "execution_count": null,
      "outputs": [
        {
          "output_type": "execute_result",
          "data": {
            "text/plain": [
              "<function matplotlib.pyplot.show(close=None, block=None)>"
            ]
          },
          "metadata": {},
          "execution_count": 9
        },
        {
          "output_type": "display_data",
          "data": {
            "text/plain": [
              "<Figure size 640x480 with 1 Axes>"
            ],
            "image/png": "[encoded data removed]"
          },
          "metadata": {}
        }
      ]
    },
    {
      "cell_type": "markdown",
      "source": [
        "# Анализ категориальных данных: вакансии (переедет в другой код, не смотреть)"
      ],
      "metadata": {
        "id": "CPFj8vT18laE"
      }
    },
    {
      "cell_type": "markdown",
      "source": [
        "## Конкретная выборка вакансий отдельной области"
      ],
      "metadata": {
        "id": "GR1HAd6KYN-T"
      }
    },
    {
      "cell_type": "markdown",
      "source": [
        "### Выявление топ 10 профессий на рынке"
      ],
      "metadata": {
        "id": "ohEPgM3dc7rJ"
      }
    },
    {
      "cell_type": "code",
      "source": [
        "import pandas as pd\n",
        "dataset = pd.read_csv('marketing.csv')\n",
        "dataset = dataset[dataset['Доход'] != 0 ]\n",
        "dataset"
      ],
      "metadata": {
        "id": "0t2Nn5Do8qfJ"
      },
      "execution_count": null,
      "outputs": []
    },
    {
      "cell_type": "markdown",
      "source": [
        "### Объединение профессий"
      ],
      "metadata": {
        "id": "wah6lBqn89G9"
      }
    },
    {
      "cell_type": "code",
      "source": [
        "import re\n",
        "list_of_vacancy = []\n",
        "for vacancies in dataset['Вакансия']:\n",
        "  #print(vacancies)\n",
        "  vacancy = re.sub(r'\\([^)]*?\\)', '', vacancies)\n",
        "  #print(vacancy)\n",
        "  list_of_vacancy.append(vacancy)\n",
        "\n",
        "#list_of_skills = list_of_skills.split('')\n",
        "dataset['Вакансии_clean'] = list_of_vacancy\n",
        "print(dataset['Вакансии_clean'])"
      ],
      "metadata": {
        "colab": {
          "base_uri": "https://localhost:8080/"
        },
        "id": "5g1otoGQ8vXP",
        "outputId": "473cf143-64be-425f-aba0-4c1e4b27497a"
      },
      "execution_count": null,
      "outputs": [
        {
          "output_type": "stream",
          "name": "stdout",
          "text": [
            "0      Специалист по медиапланированию / менеджер по ...\n",
            "1                                   Менеджер по рекламе \n",
            "2                            Ассистент отдела маркетинга\n",
            "3                                             Маркетолог\n",
            "4         Менеджер по продажам рекламных площадей в СМИ \n",
            "                             ...                        \n",
            "115                                  Менеджер по рекламе\n",
            "116                                  Менеджер по рекламе\n",
            "117                             Менеджер по PR и рекламе\n",
            "118    Media buyer  / Специалист по планированию и ра...\n",
            "119                                  Менеджер по рекламе\n",
            "Name: Вакансии_clean, Length: 119, dtype: object\n"
          ]
        }
      ]
    },
    {
      "cell_type": "code",
      "source": [
        "dataset.head()"
      ],
      "metadata": {
        "colab": {
          "base_uri": "https://localhost:8080/"
        },
        "id": "3JqhuaVE98_4",
        "outputId": "76770931-1c83-4ff7-a7ce-726fcdd16889"
      },
      "execution_count": null,
      "outputs": [
        {
          "output_type": "execute_result",
          "data": {
            "text/plain": [
              "  Направление                                           Вакансия  Доход  \\\n",
              "0     Реклама  Специалист по медиапланированию / менеджер по ...  75000   \n",
              "1     Реклама             Менеджер по рекламе (наружная реклама)  80000   \n",
              "2     Реклама                        Ассистент отдела маркетинга  40000   \n",
              "3     Реклама                                         Маркетолог  80000   \n",
              "4     Реклама  Менеджер по продажам рекламных площадей в СМИ ...  50000   \n",
              "\n",
              "                                     Ключевые навыки  \\\n",
              "0  ['Пользователь ПК', 'Баннерная реклама', 'Меди...   \n",
              "1                                  Навыки не указаны   \n",
              "2           ['Написание текстов', 'Деловое общение']   \n",
              "3  ['Яндекс.Метрика', 'Яндекс.Директ', 'Контекстн...   \n",
              "4  ['Навыки переговоров', 'Деловая коммуникация',...   \n",
              "\n",
              "                                      Вакансии_clean  \n",
              "0  Специалист по медиапланированию / менеджер по ...  \n",
              "1                               Менеджер по рекламе   \n",
              "2                        Ассистент отдела маркетинга  \n",
              "3                                         Маркетолог  \n",
              "4     Менеджер по продажам рекламных площадей в СМИ   "
            ],
            "text/html": [
              "\n",
              "  <div id=\"df-d0bb9d93-d510-435f-b127-8de54d2205e9\">\n",
              "    <div class=\"colab-df-container\">\n",
              "      <div>\n",
              "<style scoped>\n",
              "    .dataframe tbody tr th:only-of-type {\n",
              "        vertical-align: middle;\n",
              "    }\n",
              "\n",
              "    .dataframe tbody tr th {\n",
              "        vertical-align: top;\n",
              "    }\n",
              "\n",
              "    .dataframe thead th {\n",
              "        text-align: right;\n",
              "    }\n",
              "</style>\n",
              "<table border=\"1\" class=\"dataframe\">\n",
              "  <thead>\n",
              "    <tr style=\"text-align: right;\">\n",
              "      <th></th>\n",
              "      <th>Направление</th>\n",
              "      <th>Вакансия</th>\n",
              "      <th>Доход</th>\n",
              "      <th>Ключевые навыки</th>\n",
              "      <th>Вакансии_clean</th>\n",
              "    </tr>\n",
              "  </thead>\n",
              "  <tbody>\n",
              "    <tr>\n",
              "      <th>0</th>\n",
              "      <td>Реклама</td>\n",
              "      <td>Специалист по медиапланированию / менеджер по ...</td>\n",
              "      <td>75000</td>\n",
              "      <td>['Пользователь ПК', 'Баннерная реклама', 'Меди...</td>\n",
              "      <td>Специалист по медиапланированию / менеджер по ...</td>\n",
              "    </tr>\n",
              "    <tr>\n",
              "      <th>1</th>\n",
              "      <td>Реклама</td>\n",
              "      <td>Менеджер по рекламе (наружная реклама)</td>\n",
              "      <td>80000</td>\n",
              "      <td>Навыки не указаны</td>\n",
              "      <td>Менеджер по рекламе</td>\n",
              "    </tr>\n",
              "    <tr>\n",
              "      <th>2</th>\n",
              "      <td>Реклама</td>\n",
              "      <td>Ассистент отдела маркетинга</td>\n",
              "      <td>40000</td>\n",
              "      <td>['Написание текстов', 'Деловое общение']</td>\n",
              "      <td>Ассистент отдела маркетинга</td>\n",
              "    </tr>\n",
              "    <tr>\n",
              "      <th>3</th>\n",
              "      <td>Реклама</td>\n",
              "      <td>Маркетолог</td>\n",
              "      <td>80000</td>\n",
              "      <td>['Яндекс.Метрика', 'Яндекс.Директ', 'Контекстн...</td>\n",
              "      <td>Маркетолог</td>\n",
              "    </tr>\n",
              "    <tr>\n",
              "      <th>4</th>\n",
              "      <td>Реклама</td>\n",
              "      <td>Менеджер по продажам рекламных площадей в СМИ ...</td>\n",
              "      <td>50000</td>\n",
              "      <td>['Навыки переговоров', 'Деловая коммуникация',...</td>\n",
              "      <td>Менеджер по продажам рекламных площадей в СМИ</td>\n",
              "    </tr>\n",
              "  </tbody>\n",
              "</table>\n",
              "</div>\n",
              "      <button class=\"colab-df-convert\" onclick=\"convertToInteractive('df-d0bb9d93-d510-435f-b127-8de54d2205e9')\"\n",
              "              title=\"Convert this dataframe to an interactive table.\"\n",
              "              style=\"display:none;\">\n",
              "        \n",
              "  <svg xmlns=\"http://www.w3.org/2000/svg\" height=\"24px\"viewBox=\"0 0 24 24\"\n",
              "       width=\"24px\">\n",
              "    <path d=\"M0 0h24v24H0V0z\" fill=\"none\"/>\n",
              "    <path d=\"M18.56 5.44l.94 2.06.94-2.06 2.06-.94-2.06-.94-.94-2.06-.94 2.06-2.06.94zm-11 1L8.5 8.5l.94-2.06 2.06-.94-2.06-.94L8.5 2.5l-.94 2.06-2.06.94zm10 10l.94 2.06.94-2.06 2.06-.94-2.06-.94-.94-2.06-.94 2.06-2.06.94z\"/><path d=\"M17.41 7.96l-1.37-1.37c-.4-.4-.92-.59-1.43-.59-.52 0-1.04.2-1.43.59L10.3 9.45l-7.72 7.72c-.78.78-.78 2.05 0 2.83L4 21.41c.39.39.9.59 1.41.59.51 0 1.02-.2 1.41-.59l7.78-7.78 2.81-2.81c.8-.78.8-2.07 0-2.86zM5.41 20L4 18.59l7.72-7.72 1.47 1.35L5.41 20z\"/>\n",
              "  </svg>\n",
              "      </button>\n",
              "      \n",
              "  <style>\n",
              "    .colab-df-container {\n",
              "      display:flex;\n",
              "      flex-wrap:wrap;\n",
              "      gap: 12px;\n",
              "    }\n",
              "\n",
              "    .colab-df-convert {\n",
              "      background-color: #E8F0FE;\n",
              "      border: none;\n",
              "      border-radius: 50%;\n",
              "      cursor: pointer;\n",
              "      display: none;\n",
              "      fill: #1967D2;\n",
              "      height: 32px;\n",
              "      padding: 0 0 0 0;\n",
              "      width: 32px;\n",
              "    }\n",
              "\n",
              "    .colab-df-convert:hover {\n",
              "      background-color: #E2EBFA;\n",
              "      box-shadow: 0px 1px 2px rgba(60, 64, 67, 0.3), 0px 1px 3px 1px rgba(60, 64, 67, 0.15);\n",
              "      fill: #174EA6;\n",
              "    }\n",
              "\n",
              "    [theme=dark] .colab-df-convert {\n",
              "      background-color: #3B4455;\n",
              "      fill: #D2E3FC;\n",
              "    }\n",
              "\n",
              "    [theme=dark] .colab-df-convert:hover {\n",
              "      background-color: #434B5C;\n",
              "      box-shadow: 0px 1px 3px 1px rgba(0, 0, 0, 0.15);\n",
              "      filter: drop-shadow(0px 1px 2px rgba(0, 0, 0, 0.3));\n",
              "      fill: #FFFFFF;\n",
              "    }\n",
              "  </style>\n",
              "\n",
              "      <script>\n",
              "        const buttonEl =\n",
              "          document.querySelector('#df-d0bb9d93-d510-435f-b127-8de54d2205e9 button.colab-df-convert');\n",
              "        buttonEl.style.display =\n",
              "          google.colab.kernel.accessAllowed ? 'block' : 'none';\n",
              "\n",
              "        async function convertToInteractive(key) {\n",
              "          const element = document.querySelector('#df-d0bb9d93-d510-435f-b127-8de54d2205e9');\n",
              "          const dataTable =\n",
              "            await google.colab.kernel.invokeFunction('convertToInteractive',\n",
              "                                                     [key], {});\n",
              "          if (!dataTable) return;\n",
              "\n",
              "          const docLinkHtml = 'Like what you see? Visit the ' +\n",
              "            '<a target=\"_blank\" href=https://colab.research.google.com/notebooks/data_table.ipynb>data table notebook</a>'\n",
              "            + ' to learn more about interactive tables.';\n",
              "          element.innerHTML = '';\n",
              "          dataTable['output_type'] = 'display_data';\n",
              "          await google.colab.output.renderOutput(dataTable, element);\n",
              "          const docLink = document.createElement('div');\n",
              "          docLink.innerHTML = docLinkHtml;\n",
              "          element.appendChild(docLink);\n",
              "        }\n",
              "      </script>\n",
              "    </div>\n",
              "  </div>\n",
              "  "
            ]
          },
          "metadata": {},
          "execution_count": 3
        }
      ]
    },
    {
      "cell_type": "markdown",
      "source": [
        "### Визуализация профессий"
      ],
      "metadata": {
        "id": "lMjZW6V__Mfn"
      }
    },
    {
      "cell_type": "code",
      "source": [
        "list_of_vacancies = dataset['Вакансии_clean'].value_counts()[:10]\n",
        "print(list_of_vacancies)"
      ],
      "metadata": {
        "colab": {
          "base_uri": "https://localhost:8080/"
        },
        "id": "xjdAPeKR-G26",
        "outputId": "05df34ed-10f7-4453-8033-df630cbd4707"
      },
      "execution_count": null,
      "outputs": [
        {
          "output_type": "stream",
          "name": "stdout",
          "text": [
            "Менеджер по рекламе                          15\n",
            "Менеджер по маркетингу и рекламе             14\n",
            "Менеджер по рекламе и маркетингу              7\n",
            "Маркетолог                                    6\n",
            "Руководитель отдела маркетинга и рекламы      6\n",
            "Специалист по рекламе                         5\n",
            "Менеджер по рекламе                           4\n",
            "Руководитель отдела маркетинга и рекламы      3\n",
            "Специалист по рекламе и PR                    3\n",
            "Менеджер по маркетингу, рекламе и PR          3\n",
            "Name: Вакансии_clean, dtype: int64\n"
          ]
        }
      ]
    },
    {
      "cell_type": "code",
      "source": [
        "import matplotlib.pyplot as plt\n",
        "plt.barh(list_of_vacancies.index, list_of_vacancies.values)       # Горизонтальный график barh\n",
        "plt.title('Вакансии')\n",
        "plt.show"
      ],
      "metadata": {
        "colab": {
          "base_uri": "https://localhost:8080/"
        },
        "id": "l8I9sO0DUY_3",
        "outputId": "a8c5ace9-43d6-4faa-f210-48cfa5c91e10"
      },
      "execution_count": null,
      "outputs": [
        {
          "output_type": "execute_result",
          "data": {
            "text/plain": [
              "<function matplotlib.pyplot.show(close=None, block=None)>"
            ]
          },
          "metadata": {},
          "execution_count": 7
        },
        {
          "output_type": "display_data",
          "data": {
            "text/plain": [
              "<Figure size 640x480 with 1 Axes>"
            ],
            "image/png": "[encoded data removed]"
          },
          "metadata": {}
        }
      ]
    },
    {
      "cell_type": "markdown",
      "source": [],
      "metadata": {
        "id": "eFcZJR1BXSOT"
      }
    },
    {
      "cell_type": "markdown",
      "source": [
        "### Конкретная выборка вакансий отдельной области"
      ],
      "metadata": {
        "id": "84HnMzdPYqtc"
      }
    },
    {
      "cell_type": "code",
      "source": [
        "import pandas as pd\n",
        "HH_dataset = pd.read_csv('hh_final.csv')\n",
        "HH_dataset = HH_dataset[HH_dataset['Доход'] != 0 ]\n",
        "HH_dataset"
      ],
      "metadata": {
        "colab": {
          "base_uri": "https://localhost:8080/"
        },
        "id": "XkJC5jUnY8oP",
        "outputId": "f6ee2989-147e-4844-b80a-a527f6482b88"
      },
      "execution_count": null,
      "outputs": [
        {
          "output_type": "execute_result",
          "data": {
            "text/plain": [
              "         Направление                                           Вакансия  \\\n",
              "0      Культурология                                  Заведующий музеем   \n",
              "1      Культурология                            Научный сотрудник музея   \n",
              "2      Культурология                                        Экскурсовод   \n",
              "3      Культурология  Главный хранитель - заместитель заведующего (П...   \n",
              "4      Культурология  Методист по научно-просветительской деятельнос...   \n",
              "...              ...                                                ...   \n",
              "1396  Религиоведение                      Доцент Кафедры религиоведения   \n",
              "1397  Религиоведение                 Заведующий кафедрой религиоведения   \n",
              "1398  Религиоведение       Старший преподаватель Кафедры религиоведения   \n",
              "1399  Религиоведение                   Профессор кафедры религиоведения   \n",
              "1400  Религиоведение  Консультант отдела организационной работы (спе...   \n",
              "\n",
              "      Доход                                    Ключевые навыки  \n",
              "0     90000                                  Навыки не указаны  \n",
              "1     25000                                  Навыки не указаны  \n",
              "2     35000                                  Навыки не указаны  \n",
              "3     30000                                  Навыки не указаны  \n",
              "4     40000                                  Навыки не указаны  \n",
              "...     ...                                                ...  \n",
              "1396  50000  ['Высшее образование', 'Работа в условиях мног...  \n",
              "1397  79000                                  Навыки не указаны  \n",
              "1398  37000  ['Написание научных статей', 'Преподаватель', ...  \n",
              "1399  50000                                  Навыки не указаны  \n",
              "1400  33000  ['Деловая переписка', 'Работа с большим объемо...  \n",
              "\n",
              "[1395 rows x 4 columns]"
            ],
            "text/html": [
              "\n",
              "  <div id=\"df-4fe4102a-7912-4341-8810-d2dc2eb8443a\">\n",
              "    <div class=\"colab-df-container\">\n",
              "      <div>\n",
              "<style scoped>\n",
              "    .dataframe tbody tr th:only-of-type {\n",
              "        vertical-align: middle;\n",
              "    }\n",
              "\n",
              "    .dataframe tbody tr th {\n",
              "        vertical-align: top;\n",
              "    }\n",
              "\n",
              "    .dataframe thead th {\n",
              "        text-align: right;\n",
              "    }\n",
              "</style>\n",
              "<table border=\"1\" class=\"dataframe\">\n",
              "  <thead>\n",
              "    <tr style=\"text-align: right;\">\n",
              "      <th></th>\n",
              "      <th>Направление</th>\n",
              "      <th>Вакансия</th>\n",
              "      <th>Доход</th>\n",
              "      <th>Ключевые навыки</th>\n",
              "    </tr>\n",
              "  </thead>\n",
              "  <tbody>\n",
              "    <tr>\n",
              "      <th>0</th>\n",
              "      <td>Культурология</td>\n",
              "      <td>Заведующий музеем</td>\n",
              "      <td>90000</td>\n",
              "      <td>Навыки не указаны</td>\n",
              "    </tr>\n",
              "    <tr>\n",
              "      <th>1</th>\n",
              "      <td>Культурология</td>\n",
              "      <td>Научный сотрудник музея</td>\n",
              "      <td>25000</td>\n",
              "      <td>Навыки не указаны</td>\n",
              "    </tr>\n",
              "    <tr>\n",
              "      <th>2</th>\n",
              "      <td>Культурология</td>\n",
              "      <td>Экскурсовод</td>\n",
              "      <td>35000</td>\n",
              "      <td>Навыки не указаны</td>\n",
              "    </tr>\n",
              "    <tr>\n",
              "      <th>3</th>\n",
              "      <td>Культурология</td>\n",
              "      <td>Главный хранитель - заместитель заведующего (П...</td>\n",
              "      <td>30000</td>\n",
              "      <td>Навыки не указаны</td>\n",
              "    </tr>\n",
              "    <tr>\n",
              "      <th>4</th>\n",
              "      <td>Культурология</td>\n",
              "      <td>Методист по научно-просветительской деятельнос...</td>\n",
              "      <td>40000</td>\n",
              "      <td>Навыки не указаны</td>\n",
              "    </tr>\n",
              "    <tr>\n",
              "      <th>...</th>\n",
              "      <td>...</td>\n",
              "      <td>...</td>\n",
              "      <td>...</td>\n",
              "      <td>...</td>\n",
              "    </tr>\n",
              "    <tr>\n",
              "      <th>1396</th>\n",
              "      <td>Религиоведение</td>\n",
              "      <td>Доцент Кафедры религиоведения</td>\n",
              "      <td>50000</td>\n",
              "      <td>['Высшее образование', 'Работа в условиях мног...</td>\n",
              "    </tr>\n",
              "    <tr>\n",
              "      <th>1397</th>\n",
              "      <td>Религиоведение</td>\n",
              "      <td>Заведующий кафедрой религиоведения</td>\n",
              "      <td>79000</td>\n",
              "      <td>Навыки не указаны</td>\n",
              "    </tr>\n",
              "    <tr>\n",
              "      <th>1398</th>\n",
              "      <td>Религиоведение</td>\n",
              "      <td>Старший преподаватель Кафедры религиоведения</td>\n",
              "      <td>37000</td>\n",
              "      <td>['Написание научных статей', 'Преподаватель', ...</td>\n",
              "    </tr>\n",
              "    <tr>\n",
              "      <th>1399</th>\n",
              "      <td>Религиоведение</td>\n",
              "      <td>Профессор кафедры религиоведения</td>\n",
              "      <td>50000</td>\n",
              "      <td>Навыки не указаны</td>\n",
              "    </tr>\n",
              "    <tr>\n",
              "      <th>1400</th>\n",
              "      <td>Религиоведение</td>\n",
              "      <td>Консультант отдела организационной работы (спе...</td>\n",
              "      <td>33000</td>\n",
              "      <td>['Деловая переписка', 'Работа с большим объемо...</td>\n",
              "    </tr>\n",
              "  </tbody>\n",
              "</table>\n",
              "<p>1395 rows × 4 columns</p>\n",
              "</div>\n",
              "      <button class=\"colab-df-convert\" onclick=\"convertToInteractive('df-4fe4102a-7912-4341-8810-d2dc2eb8443a')\"\n",
              "              title=\"Convert this dataframe to an interactive table.\"\n",
              "              style=\"display:none;\">\n",
              "        \n",
              "  <svg xmlns=\"http://www.w3.org/2000/svg\" height=\"24px\"viewBox=\"0 0 24 24\"\n",
              "       width=\"24px\">\n",
              "    <path d=\"M0 0h24v24H0V0z\" fill=\"none\"/>\n",
              "    <path d=\"M18.56 5.44l.94 2.06.94-2.06 2.06-.94-2.06-.94-.94-2.06-.94 2.06-2.06.94zm-11 1L8.5 8.5l.94-2.06 2.06-.94-2.06-.94L8.5 2.5l-.94 2.06-2.06.94zm10 10l.94 2.06.94-2.06 2.06-.94-2.06-.94-.94-2.06-.94 2.06-2.06.94z\"/><path d=\"M17.41 7.96l-1.37-1.37c-.4-.4-.92-.59-1.43-.59-.52 0-1.04.2-1.43.59L10.3 9.45l-7.72 7.72c-.78.78-.78 2.05 0 2.83L4 21.41c.39.39.9.59 1.41.59.51 0 1.02-.2 1.41-.59l7.78-7.78 2.81-2.81c.8-.78.8-2.07 0-2.86zM5.41 20L4 18.59l7.72-7.72 1.47 1.35L5.41 20z\"/>\n",
              "  </svg>\n",
              "      </button>\n",
              "      \n",
              "  <style>\n",
              "    .colab-df-container {\n",
              "      display:flex;\n",
              "      flex-wrap:wrap;\n",
              "      gap: 12px;\n",
              "    }\n",
              "\n",
              "    .colab-df-convert {\n",
              "      background-color: #E8F0FE;\n",
              "      border: none;\n",
              "      border-radius: 50%;\n",
              "      cursor: pointer;\n",
              "      display: none;\n",
              "      fill: #1967D2;\n",
              "      height: 32px;\n",
              "      padding: 0 0 0 0;\n",
              "      width: 32px;\n",
              "    }\n",
              "\n",
              "    .colab-df-convert:hover {\n",
              "      background-color: #E2EBFA;\n",
              "      box-shadow: 0px 1px 2px rgba(60, 64, 67, 0.3), 0px 1px 3px 1px rgba(60, 64, 67, 0.15);\n",
              "      fill: #174EA6;\n",
              "    }\n",
              "\n",
              "    [theme=dark] .colab-df-convert {\n",
              "      background-color: #3B4455;\n",
              "      fill: #D2E3FC;\n",
              "    }\n",
              "\n",
              "    [theme=dark] .colab-df-convert:hover {\n",
              "      background-color: #434B5C;\n",
              "      box-shadow: 0px 1px 3px 1px rgba(0, 0, 0, 0.15);\n",
              "      filter: drop-shadow(0px 1px 2px rgba(0, 0, 0, 0.3));\n",
              "      fill: #FFFFFF;\n",
              "    }\n",
              "  </style>\n",
              "\n",
              "      <script>\n",
              "        const buttonEl =\n",
              "          document.querySelector('#df-4fe4102a-7912-4341-8810-d2dc2eb8443a button.colab-df-convert');\n",
              "        buttonEl.style.display =\n",
              "          google.colab.kernel.accessAllowed ? 'block' : 'none';\n",
              "\n",
              "        async function convertToInteractive(key) {\n",
              "          const element = document.querySelector('#df-4fe4102a-7912-4341-8810-d2dc2eb8443a');\n",
              "          const dataTable =\n",
              "            await google.colab.kernel.invokeFunction('convertToInteractive',\n",
              "                                                     [key], {});\n",
              "          if (!dataTable) return;\n",
              "\n",
              "          const docLinkHtml = 'Like what you see? Visit the ' +\n",
              "            '<a target=\"_blank\" href=https://colab.research.google.com/notebooks/data_table.ipynb>data table notebook</a>'\n",
              "            + ' to learn more about interactive tables.';\n",
              "          element.innerHTML = '';\n",
              "          dataTable['output_type'] = 'display_data';\n",
              "          await google.colab.output.renderOutput(dataTable, element);\n",
              "          const docLink = document.createElement('div');\n",
              "          docLink.innerHTML = docLinkHtml;\n",
              "          element.appendChild(docLink);\n",
              "        }\n",
              "      </script>\n",
              "    </div>\n",
              "  </div>\n",
              "  "
            ]
          },
          "metadata": {},
          "execution_count": 56
        }
      ]
    },
    {
      "cell_type": "markdown",
      "source": [
        "# Обработка выборки по направлениям"
      ],
      "metadata": {
        "id": "f8qOF7H_d1fy"
      }
    },
    {
      "cell_type": "markdown",
      "source": [
        "## Проверка на нормальность расспределения"
      ],
      "metadata": {
        "id": "EM8T-53F9ir_"
      }
    },
    {
      "cell_type": "code",
      "source": [
        "field = dataset_clean['Направление']\n",
        "field.value_counts()"
      ],
      "metadata": {
        "colab": {
          "base_uri": "https://localhost:8080/"
        },
        "id": "4dyi0jGPwa-C",
        "outputId": "d8b25dc5-9e3b-462b-eb96-d54ed002b24f"
      },
      "execution_count": null,
      "outputs": [
        {
          "output_type": "execute_result",
          "data": {
            "text/plain": [
              "Документооборот            120\n",
              "История                    120\n",
              "Международные отношения    120\n",
              "Юриспруденция              120\n",
              "Физическая культура        120\n",
              "Редактирование             119\n",
              "Реклама                    119\n",
              "Журналистика               118\n",
              "Психология                 118\n",
              "Лингвистика                116\n",
              "Филология                  106\n",
              "Философское образование     39\n",
              "Политология                 20\n",
              "Регионоведение              18\n",
              "Культурология               17\n",
              "Религиоведение               5\n",
              "Name: Направление, dtype: int64"
            ]
          },
          "metadata": {},
          "execution_count": 7
        }
      ]
    },
    {
      "cell_type": "code",
      "source": [
        "from scipy.stats import shapiro\n",
        "field_100_counts = dataset_clean['Направление'].value_counts()\n",
        "list_norm = field_100_counts.values\n",
        "print(list_norm)\n",
        "shapiro(list_norm)\n",
        "\n",
        "# Если p-значение ниже определенного уровня значимости,\n",
        "# то у нас не достаточно доказательств, чтобы сказать,\n",
        "# что данные выборки получены из нормального распределения.\n"
      ],
      "metadata": {
        "colab": {
          "base_uri": "https://localhost:8080/"
        },
        "id": "3o8Ucnt3q48F",
        "outputId": "6042d447-8e0d-4b67-a9cd-d07fb1aaee18"
      },
      "execution_count": null,
      "outputs": [
        {
          "output_type": "stream",
          "name": "stdout",
          "text": [
            "[120 120 120 120 120 119 119 118 118 116 106  39  20  18  17   5]\n"
          ]
        },
        {
          "output_type": "execute_result",
          "data": {
            "text/plain": [
              "ShapiroResult(statistic=0.6687167882919312, pvalue=7.78818066464737e-05)"
            ]
          },
          "metadata": {},
          "execution_count": 8
        }
      ]
    },
    {
      "cell_type": "markdown",
      "source": [
        "Согласно тесту Шапиро-Уивилка, распределение **является ненормальным**, соответвственно, для выявления среднего значения количественных показателей мы воспользуемся **медиану**:\n",
        "\n",
        "---\n",
        "\n",
        "\n",
        "\n",
        "---\n",
        "\n"
      ],
      "metadata": {
        "id": "lCzK4tJZ-iEl"
      }
    },
    {
      "cell_type": "code",
      "source": [
        "mean_value = dataset_clean['Направление'].value_counts().mean()\n",
        "median_value = dataset_clean['Направление'].value_counts().median()\n",
        "print(f'Медиана: {median_value}, среднее ариф.:{mean_value}')"
      ],
      "metadata": {
        "colab": {
          "base_uri": "https://localhost:8080/"
        },
        "id": "HcYYMJZ4_Ci4",
        "outputId": "326a83f7-526e-4365-eb07-350881bd729b"
      },
      "execution_count": null,
      "outputs": [
        {
          "output_type": "stream",
          "name": "stdout",
          "text": [
            "Медиана: 118.0, среднее ариф.:87.1875\n"
          ]
        }
      ]
    },
    {
      "cell_type": "markdown",
      "source": [
        "По результатам медианы, мы уберем направления из общей выборки, т.к. она отклоняется от необходимого значения больше, чем на 10 процентов\n"
      ],
      "metadata": {
        "id": "9jzCYVD40typ"
      }
    },
    {
      "cell_type": "code",
      "source": [
        "# Исключаем из выборки направления, число вакансий в которых намного меньшие заданного объема выборки (106+)\n",
        "\n",
        "dataset_100 = dataset_clean[dataset_clean['Направление'] != \"Философское образование\"]\n",
        "dataset_100 = dataset_100[dataset_100['Направление'] != \"Политология\"]\n",
        "dataset_100 = dataset_100[dataset_100['Направление'] != \"Регионоведение\"]\n",
        "dataset_100 = dataset_100[dataset_100['Направление'] != \"Культурология\"]\n",
        "dataset_100 = dataset_100[dataset_100['Направление'] != \"Религиоведение\"]"
      ],
      "metadata": {
        "id": "u06Ss-tK1bGx"
      },
      "execution_count": null,
      "outputs": []
    },
    {
      "cell_type": "code",
      "source": [
        "# Cбрасываем старые индексы\n",
        "dataset_100.reset_index(drop= True , inplace= True )\n",
        "dataset_100"
      ],
      "metadata": {
        "colab": {
          "base_uri": "https://localhost:8080/",
          "height": 423
        },
        "id": "JNYNaSITC8Gp",
        "outputId": "224cd268-d514-4917-fc61-432729231416"
      },
      "execution_count": null,
      "outputs": [
        {
          "output_type": "execute_result",
          "data": {
            "text/plain": [
              "          Направление                                           Вакансия  \\\n",
              "0     Документооборот                     Специалист по документообороту   \n",
              "1     Документооборот                Бухгалтер на первичную документацию   \n",
              "2     Документооборот                     Специалист по документообороту   \n",
              "3     Документооборот                       Менеджер по документообороту   \n",
              "4     Документооборот                     Специалист по документообороту   \n",
              "...               ...                                                ...   \n",
              "1291       Психология  Психолог 1 категории Центра обработки экстренн...   \n",
              "1292       Психология                                   Педагог-психолог   \n",
              "1293       Психология                                Психолог Росгвардии   \n",
              "1294       Психология                   Воспитатель детей младшей группы   \n",
              "1295       Психология                               Медицинский психолог   \n",
              "\n",
              "      Доход                                    Ключевые навыки  \n",
              "0     45000  ['Грамотность', 'MS Outlook', '1С: Предприятие...  \n",
              "1     60000  ['1С: Документооборот', 'Знание 1С', 'Высшее о...  \n",
              "2     99000  ['Электронный документооборот', 'Делопроизводс...  \n",
              "3     54500  ['Пользователь ПК', 'Офисная техника', 'Докуме...  \n",
              "4     64000  ['Первичная бухгалтерская документация', 'Доку...  \n",
              "...     ...                                                ...  \n",
              "1291  19096  ['Психология', 'Работа с людьми', 'Пользовател...  \n",
              "1292  30000  ['Обучение и развитие', 'Организаторские навык...  \n",
              "1293  37000                                  Навыки не указаны  \n",
              "1294  40000  ['аккуратность', 'гибкость', 'Коммуникабельнос...  \n",
              "1295  50000                                  Навыки не указаны  \n",
              "\n",
              "[1296 rows x 4 columns]"
            ],
            "text/html": [
              "\n",
              "  <div id=\"df-95b002f1-0341-490a-a120-76fcbc6a2b59\">\n",
              "    <div class=\"colab-df-container\">\n",
              "      <div>\n",
              "<style scoped>\n",
              "    .dataframe tbody tr th:only-of-type {\n",
              "        vertical-align: middle;\n",
              "    }\n",
              "\n",
              "    .dataframe tbody tr th {\n",
              "        vertical-align: top;\n",
              "    }\n",
              "\n",
              "    .dataframe thead th {\n",
              "        text-align: right;\n",
              "    }\n",
              "</style>\n",
              "<table border=\"1\" class=\"dataframe\">\n",
              "  <thead>\n",
              "    <tr style=\"text-align: right;\">\n",
              "      <th></th>\n",
              "      <th>Направление</th>\n",
              "      <th>Вакансия</th>\n",
              "      <th>Доход</th>\n",
              "      <th>Ключевые навыки</th>\n",
              "    </tr>\n",
              "  </thead>\n",
              "  <tbody>\n",
              "    <tr>\n",
              "      <th>0</th>\n",
              "      <td>Документооборот</td>\n",
              "      <td>Специалист по документообороту</td>\n",
              "      <td>45000</td>\n",
              "      <td>['Грамотность', 'MS Outlook', '1С: Предприятие...</td>\n",
              "    </tr>\n",
              "    <tr>\n",
              "      <th>1</th>\n",
              "      <td>Документооборот</td>\n",
              "      <td>Бухгалтер на первичную документацию</td>\n",
              "      <td>60000</td>\n",
              "      <td>['1С: Документооборот', 'Знание 1С', 'Высшее о...</td>\n",
              "    </tr>\n",
              "    <tr>\n",
              "      <th>2</th>\n",
              "      <td>Документооборот</td>\n",
              "      <td>Специалист по документообороту</td>\n",
              "      <td>99000</td>\n",
              "      <td>['Электронный документооборот', 'Делопроизводс...</td>\n",
              "    </tr>\n",
              "    <tr>\n",
              "      <th>3</th>\n",
              "      <td>Документооборот</td>\n",
              "      <td>Менеджер по документообороту</td>\n",
              "      <td>54500</td>\n",
              "      <td>['Пользователь ПК', 'Офисная техника', 'Докуме...</td>\n",
              "    </tr>\n",
              "    <tr>\n",
              "      <th>4</th>\n",
              "      <td>Документооборот</td>\n",
              "      <td>Специалист по документообороту</td>\n",
              "      <td>64000</td>\n",
              "      <td>['Первичная бухгалтерская документация', 'Доку...</td>\n",
              "    </tr>\n",
              "    <tr>\n",
              "      <th>...</th>\n",
              "      <td>...</td>\n",
              "      <td>...</td>\n",
              "      <td>...</td>\n",
              "      <td>...</td>\n",
              "    </tr>\n",
              "    <tr>\n",
              "      <th>1291</th>\n",
              "      <td>Психология</td>\n",
              "      <td>Психолог 1 категории Центра обработки экстренн...</td>\n",
              "      <td>19096</td>\n",
              "      <td>['Психология', 'Работа с людьми', 'Пользовател...</td>\n",
              "    </tr>\n",
              "    <tr>\n",
              "      <th>1292</th>\n",
              "      <td>Психология</td>\n",
              "      <td>Педагог-психолог</td>\n",
              "      <td>30000</td>\n",
              "      <td>['Обучение и развитие', 'Организаторские навык...</td>\n",
              "    </tr>\n",
              "    <tr>\n",
              "      <th>1293</th>\n",
              "      <td>Психология</td>\n",
              "      <td>Психолог Росгвардии</td>\n",
              "      <td>37000</td>\n",
              "      <td>Навыки не указаны</td>\n",
              "    </tr>\n",
              "    <tr>\n",
              "      <th>1294</th>\n",
              "      <td>Психология</td>\n",
              "      <td>Воспитатель детей младшей группы</td>\n",
              "      <td>40000</td>\n",
              "      <td>['аккуратность', 'гибкость', 'Коммуникабельнос...</td>\n",
              "    </tr>\n",
              "    <tr>\n",
              "      <th>1295</th>\n",
              "      <td>Психология</td>\n",
              "      <td>Медицинский психолог</td>\n",
              "      <td>50000</td>\n",
              "      <td>Навыки не указаны</td>\n",
              "    </tr>\n",
              "  </tbody>\n",
              "</table>\n",
              "<p>1296 rows × 4 columns</p>\n",
              "</div>\n",
              "      <button class=\"colab-df-convert\" onclick=\"convertToInteractive('df-95b002f1-0341-490a-a120-76fcbc6a2b59')\"\n",
              "              title=\"Convert this dataframe to an interactive table.\"\n",
              "              style=\"display:none;\">\n",
              "        \n",
              "  <svg xmlns=\"http://www.w3.org/2000/svg\" height=\"24px\"viewBox=\"0 0 24 24\"\n",
              "       width=\"24px\">\n",
              "    <path d=\"M0 0h24v24H0V0z\" fill=\"none\"/>\n",
              "    <path d=\"M18.56 5.44l.94 2.06.94-2.06 2.06-.94-2.06-.94-.94-2.06-.94 2.06-2.06.94zm-11 1L8.5 8.5l.94-2.06 2.06-.94-2.06-.94L8.5 2.5l-.94 2.06-2.06.94zm10 10l.94 2.06.94-2.06 2.06-.94-2.06-.94-.94-2.06-.94 2.06-2.06.94z\"/><path d=\"M17.41 7.96l-1.37-1.37c-.4-.4-.92-.59-1.43-.59-.52 0-1.04.2-1.43.59L10.3 9.45l-7.72 7.72c-.78.78-.78 2.05 0 2.83L4 21.41c.39.39.9.59 1.41.59.51 0 1.02-.2 1.41-.59l7.78-7.78 2.81-2.81c.8-.78.8-2.07 0-2.86zM5.41 20L4 18.59l7.72-7.72 1.47 1.35L5.41 20z\"/>\n",
              "  </svg>\n",
              "      </button>\n",
              "      \n",
              "  <style>\n",
              "    .colab-df-container {\n",
              "      display:flex;\n",
              "      flex-wrap:wrap;\n",
              "      gap: 12px;\n",
              "    }\n",
              "\n",
              "    .colab-df-convert {\n",
              "      background-color: #E8F0FE;\n",
              "      border: none;\n",
              "      border-radius: 50%;\n",
              "      cursor: pointer;\n",
              "      display: none;\n",
              "      fill: #1967D2;\n",
              "      height: 32px;\n",
              "      padding: 0 0 0 0;\n",
              "      width: 32px;\n",
              "    }\n",
              "\n",
              "    .colab-df-convert:hover {\n",
              "      background-color: #E2EBFA;\n",
              "      box-shadow: 0px 1px 2px rgba(60, 64, 67, 0.3), 0px 1px 3px 1px rgba(60, 64, 67, 0.15);\n",
              "      fill: #174EA6;\n",
              "    }\n",
              "\n",
              "    [theme=dark] .colab-df-convert {\n",
              "      background-color: #3B4455;\n",
              "      fill: #D2E3FC;\n",
              "    }\n",
              "\n",
              "    [theme=dark] .colab-df-convert:hover {\n",
              "      background-color: #434B5C;\n",
              "      box-shadow: 0px 1px 3px 1px rgba(0, 0, 0, 0.15);\n",
              "      filter: drop-shadow(0px 1px 2px rgba(0, 0, 0, 0.3));\n",
              "      fill: #FFFFFF;\n",
              "    }\n",
              "  </style>\n",
              "\n",
              "      <script>\n",
              "        const buttonEl =\n",
              "          document.querySelector('#df-95b002f1-0341-490a-a120-76fcbc6a2b59 button.colab-df-convert');\n",
              "        buttonEl.style.display =\n",
              "          google.colab.kernel.accessAllowed ? 'block' : 'none';\n",
              "\n",
              "        async function convertToInteractive(key) {\n",
              "          const element = document.querySelector('#df-95b002f1-0341-490a-a120-76fcbc6a2b59');\n",
              "          const dataTable =\n",
              "            await google.colab.kernel.invokeFunction('convertToInteractive',\n",
              "                                                     [key], {});\n",
              "          if (!dataTable) return;\n",
              "\n",
              "          const docLinkHtml = 'Like what you see? Visit the ' +\n",
              "            '<a target=\"_blank\" href=https://colab.research.google.com/notebooks/data_table.ipynb>data table notebook</a>'\n",
              "            + ' to learn more about interactive tables.';\n",
              "          element.innerHTML = '';\n",
              "          dataTable['output_type'] = 'display_data';\n",
              "          await google.colab.output.renderOutput(dataTable, element);\n",
              "          const docLink = document.createElement('div');\n",
              "          docLink.innerHTML = docLinkHtml;\n",
              "          element.appendChild(docLink);\n",
              "        }\n",
              "      </script>\n",
              "    </div>\n",
              "  </div>\n",
              "  "
            ]
          },
          "metadata": {},
          "execution_count": 65
        }
      ]
    },
    {
      "cell_type": "code",
      "source": [
        "dataset_100['Направление'].value_counts()"
      ],
      "metadata": {
        "colab": {
          "base_uri": "https://localhost:8080/"
        },
        "id": "NFASw1xaCDWi",
        "outputId": "f23dfd92-3e41-499b-d8a5-ad6407ef99fb"
      },
      "execution_count": null,
      "outputs": [
        {
          "output_type": "execute_result",
          "data": {
            "text/plain": [
              "Документооборот            120\n",
              "История                    120\n",
              "Международные отношения    120\n",
              "Юриспруденция              120\n",
              "Физическая культура        120\n",
              "Редактирование             119\n",
              "Реклама                    119\n",
              "Журналистика               118\n",
              "Психология                 118\n",
              "Лингвистика                116\n",
              "Филология                  106\n",
              "Name: Направление, dtype: int64"
            ]
          },
          "metadata": {},
          "execution_count": 66
        }
      ]
    },
    {
      "cell_type": "code",
      "source": [
        "# Построем круговую диаграмму по направлениям\n",
        "import matplotlib.pyplot as plt\n",
        "field_counts = dataset_100['Направление'].value_counts()\n",
        "plt.pie(field_counts.values, labels = field_counts.index)    # Первый аргумент - значения, второй - названия\n",
        "plt.title('Представленные на рынке гуманитарные направления')   # Добавлем название графика\n",
        "plt.show"
      ],
      "metadata": {
        "colab": {
          "base_uri": "https://localhost:8080/",
          "height": 445
        },
        "id": "ykExJFGBf633",
        "outputId": "777bab29-ff17-4bde-d0cd-a405a04b07b5"
      },
      "execution_count": null,
      "outputs": [
        {
          "output_type": "execute_result",
          "data": {
            "text/plain": [
              "<function matplotlib.pyplot.show(close=None, block=None)>"
            ]
          },
          "metadata": {},
          "execution_count": 67
        },
        {
          "output_type": "display_data",
          "data": {
            "text/plain": [
              "<Figure size 640x480 with 1 Axes>"
            ],
            "image/png": "[encoded data removed]"
          },
          "metadata": {}
        }
      ]
    },
    {
      "cell_type": "code",
      "source": [
        "import csv\n",
        "dataset_100.to_csv(r'dataset_100.csv', index= False )"
      ],
      "metadata": {
        "id": "1U6AxMYZ2jcR"
      },
      "execution_count": null,
      "outputs": []
    }
  ]
}