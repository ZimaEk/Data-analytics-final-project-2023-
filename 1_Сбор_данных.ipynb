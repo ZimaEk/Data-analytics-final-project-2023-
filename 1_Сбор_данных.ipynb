{
  "nbformat": 4,
  "nbformat_minor": 0,
  "metadata": {
    "colab": {
      "provenance": []
    },
    "kernelspec": {
      "name": "python3",
      "display_name": "Python 3"
    },
    "language_info": {
      "name": "python"
    }
  },
  "cells": [
    {
      "cell_type": "markdown",
      "source": [
        "# Формирование ссылок"
      ],
      "metadata": {
        "id": "HfJdLjf4_fTq"
      }
    },
    {
      "cell_type": "code",
      "execution_count": null,
      "metadata": {
        "id": "_uSU7EDTtZwO",
        "outputId": "dbe92fde-7000-472b-9cfd-0392efddc7f8",
        "colab": {
          "base_uri": "https://localhost:8080/"
        }
      },
      "outputs": [
        {
          "output_type": "stream",
          "name": "stdout",
          "text": [
            "{'Философское%20образование': ['https://hh.ru/search/vacancy?no_magic=true&L_save_area=true&text=Философское%20образование&search_field=name&search_field=description&excluded_text=&area=113&salary=&currency_code=RUR&only_with_salary=true&experience=doesNotMatter&employment=full&education=higher&order_by=relevance&search_period=30&items_on_page=20&page=0', 'https://hh.ru/search/vacancy?no_magic=true&L_save_area=true&text=Философское%20образование&search_field=name&search_field=description&excluded_text=&area=113&salary=&currency_code=RUR&only_with_salary=true&experience=doesNotMatter&employment=full&education=higher&order_by=relevance&search_period=30&items_on_page=20&page=1', 'https://hh.ru/search/vacancy?no_magic=true&L_save_area=true&text=Философское%20образование&search_field=name&search_field=description&excluded_text=&area=113&salary=&currency_code=RUR&only_with_salary=true&experience=doesNotMatter&employment=full&education=higher&order_by=relevance&search_period=30&items_on_page=20&page=2', 'https://hh.ru/search/vacancy?no_magic=true&L_save_area=true&text=Философское%20образование&search_field=name&search_field=description&excluded_text=&area=113&salary=&currency_code=RUR&only_with_salary=true&experience=doesNotMatter&employment=full&education=higher&order_by=relevance&search_period=30&items_on_page=20&page=3', 'https://hh.ru/search/vacancy?no_magic=true&L_save_area=true&text=Философское%20образование&search_field=name&search_field=description&excluded_text=&area=113&salary=&currency_code=RUR&only_with_salary=true&experience=doesNotMatter&employment=full&education=higher&order_by=relevance&search_period=30&items_on_page=20&page=4', 'https://hh.ru/search/vacancy?no_magic=true&L_save_area=true&text=Философское%20образование&search_field=name&search_field=description&excluded_text=&area=113&salary=&currency_code=RUR&only_with_salary=true&experience=doesNotMatter&employment=full&education=higher&order_by=relevance&search_period=30&items_on_page=20&page=5'], 'Политология': ['https://hh.ru/search/vacancy?no_magic=true&L_save_area=true&text=Политология&search_field=name&search_field=description&excluded_text=&area=113&salary=&currency_code=RUR&only_with_salary=true&experience=doesNotMatter&employment=full&education=higher&order_by=relevance&search_period=30&items_on_page=20&page=0', 'https://hh.ru/search/vacancy?no_magic=true&L_save_area=true&text=Политология&search_field=name&search_field=description&excluded_text=&area=113&salary=&currency_code=RUR&only_with_salary=true&experience=doesNotMatter&employment=full&education=higher&order_by=relevance&search_period=30&items_on_page=20&page=1', 'https://hh.ru/search/vacancy?no_magic=true&L_save_area=true&text=Политология&search_field=name&search_field=description&excluded_text=&area=113&salary=&currency_code=RUR&only_with_salary=true&experience=doesNotMatter&employment=full&education=higher&order_by=relevance&search_period=30&items_on_page=20&page=2', 'https://hh.ru/search/vacancy?no_magic=true&L_save_area=true&text=Политология&search_field=name&search_field=description&excluded_text=&area=113&salary=&currency_code=RUR&only_with_salary=true&experience=doesNotMatter&employment=full&education=higher&order_by=relevance&search_period=30&items_on_page=20&page=3', 'https://hh.ru/search/vacancy?no_magic=true&L_save_area=true&text=Политология&search_field=name&search_field=description&excluded_text=&area=113&salary=&currency_code=RUR&only_with_salary=true&experience=doesNotMatter&employment=full&education=higher&order_by=relevance&search_period=30&items_on_page=20&page=4', 'https://hh.ru/search/vacancy?no_magic=true&L_save_area=true&text=Политология&search_field=name&search_field=description&excluded_text=&area=113&salary=&currency_code=RUR&only_with_salary=true&experience=doesNotMatter&employment=full&education=higher&order_by=relevance&search_period=30&items_on_page=20&page=5'], 'Психология': ['https://hh.ru/search/vacancy?no_magic=true&L_save_area=true&text=Психология&search_field=name&search_field=description&excluded_text=&area=113&salary=&currency_code=RUR&only_with_salary=true&experience=doesNotMatter&employment=full&education=higher&order_by=relevance&search_period=30&items_on_page=20&page=0', 'https://hh.ru/search/vacancy?no_magic=true&L_save_area=true&text=Психология&search_field=name&search_field=description&excluded_text=&area=113&salary=&currency_code=RUR&only_with_salary=true&experience=doesNotMatter&employment=full&education=higher&order_by=relevance&search_period=30&items_on_page=20&page=1', 'https://hh.ru/search/vacancy?no_magic=true&L_save_area=true&text=Психология&search_field=name&search_field=description&excluded_text=&area=113&salary=&currency_code=RUR&only_with_salary=true&experience=doesNotMatter&employment=full&education=higher&order_by=relevance&search_period=30&items_on_page=20&page=2', 'https://hh.ru/search/vacancy?no_magic=true&L_save_area=true&text=Психология&search_field=name&search_field=description&excluded_text=&area=113&salary=&currency_code=RUR&only_with_salary=true&experience=doesNotMatter&employment=full&education=higher&order_by=relevance&search_period=30&items_on_page=20&page=3', 'https://hh.ru/search/vacancy?no_magic=true&L_save_area=true&text=Психология&search_field=name&search_field=description&excluded_text=&area=113&salary=&currency_code=RUR&only_with_salary=true&experience=doesNotMatter&employment=full&education=higher&order_by=relevance&search_period=30&items_on_page=20&page=4', 'https://hh.ru/search/vacancy?no_magic=true&L_save_area=true&text=Психология&search_field=name&search_field=description&excluded_text=&area=113&salary=&currency_code=RUR&only_with_salary=true&experience=doesNotMatter&employment=full&education=higher&order_by=relevance&search_period=30&items_on_page=20&page=5'], 'История': ['https://hh.ru/search/vacancy?no_magic=true&L_save_area=true&text=История&search_field=name&search_field=description&excluded_text=&area=113&salary=&currency_code=RUR&only_with_salary=true&experience=doesNotMatter&employment=full&education=higher&order_by=relevance&search_period=30&items_on_page=20&page=0', 'https://hh.ru/search/vacancy?no_magic=true&L_save_area=true&text=История&search_field=name&search_field=description&excluded_text=&area=113&salary=&currency_code=RUR&only_with_salary=true&experience=doesNotMatter&employment=full&education=higher&order_by=relevance&search_period=30&items_on_page=20&page=1', 'https://hh.ru/search/vacancy?no_magic=true&L_save_area=true&text=История&search_field=name&search_field=description&excluded_text=&area=113&salary=&currency_code=RUR&only_with_salary=true&experience=doesNotMatter&employment=full&education=higher&order_by=relevance&search_period=30&items_on_page=20&page=2', 'https://hh.ru/search/vacancy?no_magic=true&L_save_area=true&text=История&search_field=name&search_field=description&excluded_text=&area=113&salary=&currency_code=RUR&only_with_salary=true&experience=doesNotMatter&employment=full&education=higher&order_by=relevance&search_period=30&items_on_page=20&page=3', 'https://hh.ru/search/vacancy?no_magic=true&L_save_area=true&text=История&search_field=name&search_field=description&excluded_text=&area=113&salary=&currency_code=RUR&only_with_salary=true&experience=doesNotMatter&employment=full&education=higher&order_by=relevance&search_period=30&items_on_page=20&page=4', 'https://hh.ru/search/vacancy?no_magic=true&L_save_area=true&text=История&search_field=name&search_field=description&excluded_text=&area=113&salary=&currency_code=RUR&only_with_salary=true&experience=doesNotMatter&employment=full&education=higher&order_by=relevance&search_period=30&items_on_page=20&page=5'], 'Юриспруденция': ['https://hh.ru/search/vacancy?no_magic=true&L_save_area=true&text=Юриспруденция&search_field=name&search_field=description&excluded_text=&area=113&salary=&currency_code=RUR&only_with_salary=true&experience=doesNotMatter&employment=full&education=higher&order_by=relevance&search_period=30&items_on_page=20&page=0', 'https://hh.ru/search/vacancy?no_magic=true&L_save_area=true&text=Юриспруденция&search_field=name&search_field=description&excluded_text=&area=113&salary=&currency_code=RUR&only_with_salary=true&experience=doesNotMatter&employment=full&education=higher&order_by=relevance&search_period=30&items_on_page=20&page=1', 'https://hh.ru/search/vacancy?no_magic=true&L_save_area=true&text=Юриспруденция&search_field=name&search_field=description&excluded_text=&area=113&salary=&currency_code=RUR&only_with_salary=true&experience=doesNotMatter&employment=full&education=higher&order_by=relevance&search_period=30&items_on_page=20&page=2', 'https://hh.ru/search/vacancy?no_magic=true&L_save_area=true&text=Юриспруденция&search_field=name&search_field=description&excluded_text=&area=113&salary=&currency_code=RUR&only_with_salary=true&experience=doesNotMatter&employment=full&education=higher&order_by=relevance&search_period=30&items_on_page=20&page=3', 'https://hh.ru/search/vacancy?no_magic=true&L_save_area=true&text=Юриспруденция&search_field=name&search_field=description&excluded_text=&area=113&salary=&currency_code=RUR&only_with_salary=true&experience=doesNotMatter&employment=full&education=higher&order_by=relevance&search_period=30&items_on_page=20&page=4', 'https://hh.ru/search/vacancy?no_magic=true&L_save_area=true&text=Юриспруденция&search_field=name&search_field=description&excluded_text=&area=113&salary=&currency_code=RUR&only_with_salary=true&experience=doesNotMatter&employment=full&education=higher&order_by=relevance&search_period=30&items_on_page=20&page=5'], 'Журналистика': ['https://hh.ru/search/vacancy?no_magic=true&L_save_area=true&text=Журналистика&search_field=name&search_field=description&excluded_text=&area=113&salary=&currency_code=RUR&only_with_salary=true&experience=doesNotMatter&employment=full&education=higher&order_by=relevance&search_period=30&items_on_page=20&page=0', 'https://hh.ru/search/vacancy?no_magic=true&L_save_area=true&text=Журналистика&search_field=name&search_field=description&excluded_text=&area=113&salary=&currency_code=RUR&only_with_salary=true&experience=doesNotMatter&employment=full&education=higher&order_by=relevance&search_period=30&items_on_page=20&page=1', 'https://hh.ru/search/vacancy?no_magic=true&L_save_area=true&text=Журналистика&search_field=name&search_field=description&excluded_text=&area=113&salary=&currency_code=RUR&only_with_salary=true&experience=doesNotMatter&employment=full&education=higher&order_by=relevance&search_period=30&items_on_page=20&page=2', 'https://hh.ru/search/vacancy?no_magic=true&L_save_area=true&text=Журналистика&search_field=name&search_field=description&excluded_text=&area=113&salary=&currency_code=RUR&only_with_salary=true&experience=doesNotMatter&employment=full&education=higher&order_by=relevance&search_period=30&items_on_page=20&page=3', 'https://hh.ru/search/vacancy?no_magic=true&L_save_area=true&text=Журналистика&search_field=name&search_field=description&excluded_text=&area=113&salary=&currency_code=RUR&only_with_salary=true&experience=doesNotMatter&employment=full&education=higher&order_by=relevance&search_period=30&items_on_page=20&page=4', 'https://hh.ru/search/vacancy?no_magic=true&L_save_area=true&text=Журналистика&search_field=name&search_field=description&excluded_text=&area=113&salary=&currency_code=RUR&only_with_salary=true&experience=doesNotMatter&employment=full&education=higher&order_by=relevance&search_period=30&items_on_page=20&page=5'], 'Международные%20отношения': ['https://hh.ru/search/vacancy?no_magic=true&L_save_area=true&text=Международные%20отношения&search_field=name&search_field=description&excluded_text=&area=113&salary=&currency_code=RUR&only_with_salary=true&experience=doesNotMatter&employment=full&education=higher&order_by=relevance&search_period=30&items_on_page=20&page=0', 'https://hh.ru/search/vacancy?no_magic=true&L_save_area=true&text=Международные%20отношения&search_field=name&search_field=description&excluded_text=&area=113&salary=&currency_code=RUR&only_with_salary=true&experience=doesNotMatter&employment=full&education=higher&order_by=relevance&search_period=30&items_on_page=20&page=1', 'https://hh.ru/search/vacancy?no_magic=true&L_save_area=true&text=Международные%20отношения&search_field=name&search_field=description&excluded_text=&area=113&salary=&currency_code=RUR&only_with_salary=true&experience=doesNotMatter&employment=full&education=higher&order_by=relevance&search_period=30&items_on_page=20&page=2', 'https://hh.ru/search/vacancy?no_magic=true&L_save_area=true&text=Международные%20отношения&search_field=name&search_field=description&excluded_text=&area=113&salary=&currency_code=RUR&only_with_salary=true&experience=doesNotMatter&employment=full&education=higher&order_by=relevance&search_period=30&items_on_page=20&page=3', 'https://hh.ru/search/vacancy?no_magic=true&L_save_area=true&text=Международные%20отношения&search_field=name&search_field=description&excluded_text=&area=113&salary=&currency_code=RUR&only_with_salary=true&experience=doesNotMatter&employment=full&education=higher&order_by=relevance&search_period=30&items_on_page=20&page=4', 'https://hh.ru/search/vacancy?no_magic=true&L_save_area=true&text=Международные%20отношения&search_field=name&search_field=description&excluded_text=&area=113&salary=&currency_code=RUR&only_with_salary=true&experience=doesNotMatter&employment=full&education=higher&order_by=relevance&search_period=30&items_on_page=20&page=5'], 'Регионоведение': ['https://hh.ru/search/vacancy?no_magic=true&L_save_area=true&text=Регионоведение&search_field=name&search_field=description&excluded_text=&area=113&salary=&currency_code=RUR&only_with_salary=true&experience=doesNotMatter&employment=full&education=higher&order_by=relevance&search_period=30&items_on_page=20&page=0', 'https://hh.ru/search/vacancy?no_magic=true&L_save_area=true&text=Регионоведение&search_field=name&search_field=description&excluded_text=&area=113&salary=&currency_code=RUR&only_with_salary=true&experience=doesNotMatter&employment=full&education=higher&order_by=relevance&search_period=30&items_on_page=20&page=1', 'https://hh.ru/search/vacancy?no_magic=true&L_save_area=true&text=Регионоведение&search_field=name&search_field=description&excluded_text=&area=113&salary=&currency_code=RUR&only_with_salary=true&experience=doesNotMatter&employment=full&education=higher&order_by=relevance&search_period=30&items_on_page=20&page=2', 'https://hh.ru/search/vacancy?no_magic=true&L_save_area=true&text=Регионоведение&search_field=name&search_field=description&excluded_text=&area=113&salary=&currency_code=RUR&only_with_salary=true&experience=doesNotMatter&employment=full&education=higher&order_by=relevance&search_period=30&items_on_page=20&page=3', 'https://hh.ru/search/vacancy?no_magic=true&L_save_area=true&text=Регионоведение&search_field=name&search_field=description&excluded_text=&area=113&salary=&currency_code=RUR&only_with_salary=true&experience=doesNotMatter&employment=full&education=higher&order_by=relevance&search_period=30&items_on_page=20&page=4', 'https://hh.ru/search/vacancy?no_magic=true&L_save_area=true&text=Регионоведение&search_field=name&search_field=description&excluded_text=&area=113&salary=&currency_code=RUR&only_with_salary=true&experience=doesNotMatter&employment=full&education=higher&order_by=relevance&search_period=30&items_on_page=20&page=5'], 'Редактирование': ['https://hh.ru/search/vacancy?no_magic=true&L_save_area=true&text=Редактирование&search_field=name&search_field=description&excluded_text=&area=113&salary=&currency_code=RUR&only_with_salary=true&experience=doesNotMatter&employment=full&education=higher&order_by=relevance&search_period=30&items_on_page=20&page=0', 'https://hh.ru/search/vacancy?no_magic=true&L_save_area=true&text=Редактирование&search_field=name&search_field=description&excluded_text=&area=113&salary=&currency_code=RUR&only_with_salary=true&experience=doesNotMatter&employment=full&education=higher&order_by=relevance&search_period=30&items_on_page=20&page=1', 'https://hh.ru/search/vacancy?no_magic=true&L_save_area=true&text=Редактирование&search_field=name&search_field=description&excluded_text=&area=113&salary=&currency_code=RUR&only_with_salary=true&experience=doesNotMatter&employment=full&education=higher&order_by=relevance&search_period=30&items_on_page=20&page=2', 'https://hh.ru/search/vacancy?no_magic=true&L_save_area=true&text=Редактирование&search_field=name&search_field=description&excluded_text=&area=113&salary=&currency_code=RUR&only_with_salary=true&experience=doesNotMatter&employment=full&education=higher&order_by=relevance&search_period=30&items_on_page=20&page=3', 'https://hh.ru/search/vacancy?no_magic=true&L_save_area=true&text=Редактирование&search_field=name&search_field=description&excluded_text=&area=113&salary=&currency_code=RUR&only_with_salary=true&experience=doesNotMatter&employment=full&education=higher&order_by=relevance&search_period=30&items_on_page=20&page=4', 'https://hh.ru/search/vacancy?no_magic=true&L_save_area=true&text=Редактирование&search_field=name&search_field=description&excluded_text=&area=113&salary=&currency_code=RUR&only_with_salary=true&experience=doesNotMatter&employment=full&education=higher&order_by=relevance&search_period=30&items_on_page=20&page=5'], 'Филология': ['https://hh.ru/search/vacancy?no_magic=true&L_save_area=true&text=Филология&search_field=name&search_field=description&excluded_text=&area=113&salary=&currency_code=RUR&only_with_salary=true&experience=doesNotMatter&employment=full&education=higher&order_by=relevance&search_period=30&items_on_page=20&page=0', 'https://hh.ru/search/vacancy?no_magic=true&L_save_area=true&text=Филология&search_field=name&search_field=description&excluded_text=&area=113&salary=&currency_code=RUR&only_with_salary=true&experience=doesNotMatter&employment=full&education=higher&order_by=relevance&search_period=30&items_on_page=20&page=1', 'https://hh.ru/search/vacancy?no_magic=true&L_save_area=true&text=Филология&search_field=name&search_field=description&excluded_text=&area=113&salary=&currency_code=RUR&only_with_salary=true&experience=doesNotMatter&employment=full&education=higher&order_by=relevance&search_period=30&items_on_page=20&page=2', 'https://hh.ru/search/vacancy?no_magic=true&L_save_area=true&text=Филология&search_field=name&search_field=description&excluded_text=&area=113&salary=&currency_code=RUR&only_with_salary=true&experience=doesNotMatter&employment=full&education=higher&order_by=relevance&search_period=30&items_on_page=20&page=3', 'https://hh.ru/search/vacancy?no_magic=true&L_save_area=true&text=Филология&search_field=name&search_field=description&excluded_text=&area=113&salary=&currency_code=RUR&only_with_salary=true&experience=doesNotMatter&employment=full&education=higher&order_by=relevance&search_period=30&items_on_page=20&page=4', 'https://hh.ru/search/vacancy?no_magic=true&L_save_area=true&text=Филология&search_field=name&search_field=description&excluded_text=&area=113&salary=&currency_code=RUR&only_with_salary=true&experience=doesNotMatter&employment=full&education=higher&order_by=relevance&search_period=30&items_on_page=20&page=5'], 'Лингвистический': ['https://hh.ru/search/vacancy?no_magic=true&L_save_area=true&text=Лингвистический&search_field=name&search_field=description&excluded_text=&area=113&salary=&currency_code=RUR&only_with_salary=true&experience=doesNotMatter&employment=full&education=higher&order_by=relevance&search_period=30&items_on_page=20&page=0', 'https://hh.ru/search/vacancy?no_magic=true&L_save_area=true&text=Лингвистический&search_field=name&search_field=description&excluded_text=&area=113&salary=&currency_code=RUR&only_with_salary=true&experience=doesNotMatter&employment=full&education=higher&order_by=relevance&search_period=30&items_on_page=20&page=1', 'https://hh.ru/search/vacancy?no_magic=true&L_save_area=true&text=Лингвистический&search_field=name&search_field=description&excluded_text=&area=113&salary=&currency_code=RUR&only_with_salary=true&experience=doesNotMatter&employment=full&education=higher&order_by=relevance&search_period=30&items_on_page=20&page=2', 'https://hh.ru/search/vacancy?no_magic=true&L_save_area=true&text=Лингвистический&search_field=name&search_field=description&excluded_text=&area=113&salary=&currency_code=RUR&only_with_salary=true&experience=doesNotMatter&employment=full&education=higher&order_by=relevance&search_period=30&items_on_page=20&page=3', 'https://hh.ru/search/vacancy?no_magic=true&L_save_area=true&text=Лингвистический&search_field=name&search_field=description&excluded_text=&area=113&salary=&currency_code=RUR&only_with_salary=true&experience=doesNotMatter&employment=full&education=higher&order_by=relevance&search_period=30&items_on_page=20&page=4', 'https://hh.ru/search/vacancy?no_magic=true&L_save_area=true&text=Лингвистический&search_field=name&search_field=description&excluded_text=&area=113&salary=&currency_code=RUR&only_with_salary=true&experience=doesNotMatter&employment=full&education=higher&order_by=relevance&search_period=30&items_on_page=20&page=5'], 'Культурология': ['https://hh.ru/search/vacancy?no_magic=true&L_save_area=true&text=Культурология&search_field=name&search_field=description&excluded_text=&area=113&salary=&currency_code=RUR&only_with_salary=true&experience=doesNotMatter&employment=full&education=higher&order_by=relevance&search_period=30&items_on_page=20&page=0', 'https://hh.ru/search/vacancy?no_magic=true&L_save_area=true&text=Культурология&search_field=name&search_field=description&excluded_text=&area=113&salary=&currency_code=RUR&only_with_salary=true&experience=doesNotMatter&employment=full&education=higher&order_by=relevance&search_period=30&items_on_page=20&page=1', 'https://hh.ru/search/vacancy?no_magic=true&L_save_area=true&text=Культурология&search_field=name&search_field=description&excluded_text=&area=113&salary=&currency_code=RUR&only_with_salary=true&experience=doesNotMatter&employment=full&education=higher&order_by=relevance&search_period=30&items_on_page=20&page=2', 'https://hh.ru/search/vacancy?no_magic=true&L_save_area=true&text=Культурология&search_field=name&search_field=description&excluded_text=&area=113&salary=&currency_code=RUR&only_with_salary=true&experience=doesNotMatter&employment=full&education=higher&order_by=relevance&search_period=30&items_on_page=20&page=3', 'https://hh.ru/search/vacancy?no_magic=true&L_save_area=true&text=Культурология&search_field=name&search_field=description&excluded_text=&area=113&salary=&currency_code=RUR&only_with_salary=true&experience=doesNotMatter&employment=full&education=higher&order_by=relevance&search_period=30&items_on_page=20&page=4', 'https://hh.ru/search/vacancy?no_magic=true&L_save_area=true&text=Культурология&search_field=name&search_field=description&excluded_text=&area=113&salary=&currency_code=RUR&only_with_salary=true&experience=doesNotMatter&employment=full&education=higher&order_by=relevance&search_period=30&items_on_page=20&page=5'], 'Религиоведение': ['https://hh.ru/search/vacancy?no_magic=true&L_save_area=true&text=Религиоведение&search_field=name&search_field=description&excluded_text=&area=113&salary=&currency_code=RUR&only_with_salary=true&experience=doesNotMatter&employment=full&education=higher&order_by=relevance&search_period=30&items_on_page=20&page=0', 'https://hh.ru/search/vacancy?no_magic=true&L_save_area=true&text=Религиоведение&search_field=name&search_field=description&excluded_text=&area=113&salary=&currency_code=RUR&only_with_salary=true&experience=doesNotMatter&employment=full&education=higher&order_by=relevance&search_period=30&items_on_page=20&page=1', 'https://hh.ru/search/vacancy?no_magic=true&L_save_area=true&text=Религиоведение&search_field=name&search_field=description&excluded_text=&area=113&salary=&currency_code=RUR&only_with_salary=true&experience=doesNotMatter&employment=full&education=higher&order_by=relevance&search_period=30&items_on_page=20&page=2', 'https://hh.ru/search/vacancy?no_magic=true&L_save_area=true&text=Религиоведение&search_field=name&search_field=description&excluded_text=&area=113&salary=&currency_code=RUR&only_with_salary=true&experience=doesNotMatter&employment=full&education=higher&order_by=relevance&search_period=30&items_on_page=20&page=3', 'https://hh.ru/search/vacancy?no_magic=true&L_save_area=true&text=Религиоведение&search_field=name&search_field=description&excluded_text=&area=113&salary=&currency_code=RUR&only_with_salary=true&experience=doesNotMatter&employment=full&education=higher&order_by=relevance&search_period=30&items_on_page=20&page=4', 'https://hh.ru/search/vacancy?no_magic=true&L_save_area=true&text=Религиоведение&search_field=name&search_field=description&excluded_text=&area=113&salary=&currency_code=RUR&only_with_salary=true&experience=doesNotMatter&employment=full&education=higher&order_by=relevance&search_period=30&items_on_page=20&page=5'], 'Документооборот': ['https://hh.ru/search/vacancy?no_magic=true&L_save_area=true&text=Документооборот&search_field=name&search_field=description&excluded_text=&area=113&salary=&currency_code=RUR&only_with_salary=true&experience=doesNotMatter&employment=full&education=higher&order_by=relevance&search_period=30&items_on_page=20&page=0', 'https://hh.ru/search/vacancy?no_magic=true&L_save_area=true&text=Документооборот&search_field=name&search_field=description&excluded_text=&area=113&salary=&currency_code=RUR&only_with_salary=true&experience=doesNotMatter&employment=full&education=higher&order_by=relevance&search_period=30&items_on_page=20&page=1', 'https://hh.ru/search/vacancy?no_magic=true&L_save_area=true&text=Документооборот&search_field=name&search_field=description&excluded_text=&area=113&salary=&currency_code=RUR&only_with_salary=true&experience=doesNotMatter&employment=full&education=higher&order_by=relevance&search_period=30&items_on_page=20&page=2', 'https://hh.ru/search/vacancy?no_magic=true&L_save_area=true&text=Документооборот&search_field=name&search_field=description&excluded_text=&area=113&salary=&currency_code=RUR&only_with_salary=true&experience=doesNotMatter&employment=full&education=higher&order_by=relevance&search_period=30&items_on_page=20&page=3', 'https://hh.ru/search/vacancy?no_magic=true&L_save_area=true&text=Документооборот&search_field=name&search_field=description&excluded_text=&area=113&salary=&currency_code=RUR&only_with_salary=true&experience=doesNotMatter&employment=full&education=higher&order_by=relevance&search_period=30&items_on_page=20&page=4', 'https://hh.ru/search/vacancy?no_magic=true&L_save_area=true&text=Документооборот&search_field=name&search_field=description&excluded_text=&area=113&salary=&currency_code=RUR&only_with_salary=true&experience=doesNotMatter&employment=full&education=higher&order_by=relevance&search_period=30&items_on_page=20&page=5'], 'Физическая%20культура': ['https://hh.ru/search/vacancy?no_magic=true&L_save_area=true&text=Физическая%20культура&search_field=name&search_field=description&excluded_text=&area=113&salary=&currency_code=RUR&only_with_salary=true&experience=doesNotMatter&employment=full&education=higher&order_by=relevance&search_period=30&items_on_page=20&page=0', 'https://hh.ru/search/vacancy?no_magic=true&L_save_area=true&text=Физическая%20культура&search_field=name&search_field=description&excluded_text=&area=113&salary=&currency_code=RUR&only_with_salary=true&experience=doesNotMatter&employment=full&education=higher&order_by=relevance&search_period=30&items_on_page=20&page=1', 'https://hh.ru/search/vacancy?no_magic=true&L_save_area=true&text=Физическая%20культура&search_field=name&search_field=description&excluded_text=&area=113&salary=&currency_code=RUR&only_with_salary=true&experience=doesNotMatter&employment=full&education=higher&order_by=relevance&search_period=30&items_on_page=20&page=2', 'https://hh.ru/search/vacancy?no_magic=true&L_save_area=true&text=Физическая%20культура&search_field=name&search_field=description&excluded_text=&area=113&salary=&currency_code=RUR&only_with_salary=true&experience=doesNotMatter&employment=full&education=higher&order_by=relevance&search_period=30&items_on_page=20&page=3', 'https://hh.ru/search/vacancy?no_magic=true&L_save_area=true&text=Физическая%20культура&search_field=name&search_field=description&excluded_text=&area=113&salary=&currency_code=RUR&only_with_salary=true&experience=doesNotMatter&employment=full&education=higher&order_by=relevance&search_period=30&items_on_page=20&page=4', 'https://hh.ru/search/vacancy?no_magic=true&L_save_area=true&text=Физическая%20культура&search_field=name&search_field=description&excluded_text=&area=113&salary=&currency_code=RUR&only_with_salary=true&experience=doesNotMatter&employment=full&education=higher&order_by=relevance&search_period=30&items_on_page=20&page=5'], 'Реклама': ['https://hh.ru/search/vacancy?no_magic=true&L_save_area=true&text=Реклама&search_field=name&search_field=description&excluded_text=&area=113&salary=&currency_code=RUR&only_with_salary=true&experience=doesNotMatter&employment=full&education=higher&order_by=relevance&search_period=30&items_on_page=20&page=0', 'https://hh.ru/search/vacancy?no_magic=true&L_save_area=true&text=Реклама&search_field=name&search_field=description&excluded_text=&area=113&salary=&currency_code=RUR&only_with_salary=true&experience=doesNotMatter&employment=full&education=higher&order_by=relevance&search_period=30&items_on_page=20&page=1', 'https://hh.ru/search/vacancy?no_magic=true&L_save_area=true&text=Реклама&search_field=name&search_field=description&excluded_text=&area=113&salary=&currency_code=RUR&only_with_salary=true&experience=doesNotMatter&employment=full&education=higher&order_by=relevance&search_period=30&items_on_page=20&page=2', 'https://hh.ru/search/vacancy?no_magic=true&L_save_area=true&text=Реклама&search_field=name&search_field=description&excluded_text=&area=113&salary=&currency_code=RUR&only_with_salary=true&experience=doesNotMatter&employment=full&education=higher&order_by=relevance&search_period=30&items_on_page=20&page=3', 'https://hh.ru/search/vacancy?no_magic=true&L_save_area=true&text=Реклама&search_field=name&search_field=description&excluded_text=&area=113&salary=&currency_code=RUR&only_with_salary=true&experience=doesNotMatter&employment=full&education=higher&order_by=relevance&search_period=30&items_on_page=20&page=4', 'https://hh.ru/search/vacancy?no_magic=true&L_save_area=true&text=Реклама&search_field=name&search_field=description&excluded_text=&area=113&salary=&currency_code=RUR&only_with_salary=true&experience=doesNotMatter&employment=full&education=higher&order_by=relevance&search_period=30&items_on_page=20&page=5']}\n"
          ]
        }
      ],
      "source": [
        "# Создаем словарь, в котором каждому направлению соответствет набор из 5 постраничных ссылок\n",
        "# Текст ссылки включает в себя ключевые слова по поиску, например \"Лингвистическое образование\" или \"Лингвитика\" и пагинацию\n",
        "\n",
        "links = []\n",
        "num = ['0','1','2','3','4','5']\n",
        "links = {'Философское%20образование': [],  'Политология': [], 'Психология': [], 'История': [], 'Юриспруденция': [], 'Журналистика': [],\n",
        "         'Международные%20отношения': [], 'Регионоведение': [], 'Редактирование': [], 'Филология': [], 'Лингвистический': [], 'Культурология': [],\n",
        "         'Религиоведение': [], 'Документооборот': [], 'Физическая%20культура': [], 'Реклама': []}\n",
        "\n",
        "for i in num:\n",
        "    for key in links:\n",
        "        links[key].append(\"https://hh.ru/search/vacancy?no_magic=true&L_save_area=true&text=\" + key + \"&search_field=name&search_field=description&excluded_text=&area=113&salary=&currency_code=RUR&only_with_salary=true&experience=doesNotMatter&employment=full&education=higher&order_by=relevance&search_period=30&items_on_page=20&page=\" + i )\n",
        "\n",
        "print(links)"
      ]
    },
    {
      "cell_type": "code",
      "source": [
        "# Проверяем получившиеся ссылки по направлениям\n",
        "for link in links['Религиоведение']:\n",
        "  print(link)"
      ],
      "metadata": {
        "id": "J8pE4gJnFPo-"
      },
      "execution_count": null,
      "outputs": []
    },
    {
      "cell_type": "markdown",
      "source": [
        "# Парсинг по отдельным направлениям\n",
        "\n",
        "1) Для парсинга необходимо менять название направления и соответственно названиефинального словаря\n",
        "\n",
        "2) Парсит по 20 вакансий со страницы (если есть)"
      ],
      "metadata": {
        "id": "FrNyFHNf2Rhz"
      }
    },
    {
      "cell_type": "code",
      "source": [
        "import requests as req\n",
        "from bs4 import BeautifulSoup\n",
        "\n",
        "result = []\n",
        "salary_list = []\n",
        "\n",
        "try:\n",
        "  #for speciality in links:\n",
        "    for link in links[\"Юриспруденция\"]:\n",
        "\n",
        "\n",
        "      session = req.session()\n",
        "      session.headers = {\n",
        "              'user-agent': 'Mozilla/5.0 (Windows NT 10.0; Win64; x64) AppleWebKit/537.36 (KHTML, like Gecko) Chrome/109.0.0.0 Safari/537.36',\n",
        "              'accept-language': 'ru-RU,ru;q=0.9,en-GB;q=0.8,en;q=0.7,pl-PL;q=0.6,pl;q=0.5,en-US;q=0.4'\n",
        "      }\n",
        "\n",
        "      res = session.get(link)\n",
        "      res.raise_for_status()\n",
        "      html = res.text\n",
        "\n",
        "      soup = BeautifulSoup(html, 'html5lib')\n",
        "      jobs = soup.find_all(\"a\", class_ =\"serp-item__title\")\n",
        "\n",
        "\n",
        "      # Парсим ключевые навыки\n",
        "      for job in jobs:\n",
        "\n",
        "        vacancies = job.text   # Спарсили название вакансии\n",
        "        print(vacancies)\n",
        "\n",
        "        job_link = job.get(\"href\")\n",
        "        session = req.session()\n",
        "        session.headers = {\n",
        "                  'user-agent': 'Mozilla/5.0 (Windows NT 10.0; Win64; x64) AppleWebKit/537.36 (KHTML, like Gecko) Chrome/109.0.0.0 Safari/537.36',\n",
        "                  'accept-language': 'ru-RU,ru;q=0.9,en-GB;q=0.8,en;q=0.7,pl-PL;q=0.6,pl;q=0.5,en-US;q=0.4'\n",
        "          }\n",
        "        res_skills = session.get(job_link)\n",
        "        html_skills = res_skills.text\n",
        "\n",
        "        soup_skills = BeautifulSoup(html_skills, 'html.parser')\n",
        "        skills = soup_skills.find('div', class_='bloko-tag-list')\n",
        "\n",
        "        if skills == None:\n",
        "          key_skills = 'Навыки не указаны'\n",
        "        else:\n",
        "          skills = soup_skills.find('div', class_='bloko-tag-list')\n",
        "          list_of_skills = []\n",
        "          for skill in skills:\n",
        "                list_of_skills.append(skill.text)\n",
        "                key_skills = list_of_skills\n",
        "\n",
        "        inner_salary = soup_skills.find(\"span\", class_=\"bloko-header-section-2 bloko-header-section-2_lite\")\n",
        "        salary = ''.join(inner_salary.text.strip('руб.').strip('от').strip('до').split()[:2])\n",
        "        digits = '1234567890'\n",
        "\n",
        "        for i in salary:\n",
        "          if i in digits:\n",
        "            salary_int = int(salary)\n",
        "          else:\n",
        "            salary_int = 0\n",
        "        print(salary_int)\n",
        "\n",
        "        result.append({'Направление': 'Юриспруденция',\n",
        "                'Вакансия': vacancies,\n",
        "                'Доход': salary_int,\n",
        "                'Ключевые навыки': key_skills\n",
        "            })\n",
        "\n",
        "except Exception as ex:\n",
        "    print(f'Error: {ex}')\n",
        "\n",
        "print(result)"
      ],
      "metadata": {
        "id": "Zs8piUWR2RKT"
      },
      "execution_count": null,
      "outputs": []
    },
    {
      "cell_type": "code",
      "source": [
        "print(result)"
      ],
      "metadata": {
        "id": "aiJynpSTBiHM"
      },
      "execution_count": null,
      "outputs": []
    },
    {
      "cell_type": "code",
      "source": [
        "len(result)"
      ],
      "metadata": {
        "id": "VLCaV5zPH9TO"
      },
      "execution_count": null,
      "outputs": []
    },
    {
      "cell_type": "markdown",
      "source": [
        "# Импорт в CSV"
      ],
      "metadata": {
        "id": "o--tsmANIrPJ"
      }
    },
    {
      "cell_type": "code",
      "source": [
        "import csv\n",
        "\n",
        "with open('Law.csv', 'w') as f:\n",
        "  writer = csv.DictWriter(f, result[0].keys())\n",
        "  writer.writeheader()\n",
        "  for r in result:\n",
        "    writer.writerow(r)"
      ],
      "metadata": {
        "id": "BUaUFRjWIvG5"
      },
      "execution_count": null,
      "outputs": []
    },
    {
      "cell_type": "code",
      "source": [
        "# Открываем csv через датафрейм\n",
        "import pandas as pd\n",
        "dataset = pd.read_csv('law.csv')\n",
        "dataset"
      ],
      "metadata": {
        "id": "Zj3OlGfNOdzZ"
      },
      "execution_count": null,
      "outputs": []
    }
  ]
}